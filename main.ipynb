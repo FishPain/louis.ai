{
 "cells": [
  {
   "cell_type": "code",
   "execution_count": 1,
   "metadata": {},
   "outputs": [
    {
     "name": "stderr",
     "output_type": "stream",
     "text": [
      "/Users/ifish/Documents/Github/louis.ai/.venv/lib/python3.13/site-packages/tqdm/auto.py:21: TqdmWarning: IProgress not found. Please update jupyter and ipywidgets. See https://ipywidgets.readthedocs.io/en/stable/user_install.html\n",
      "  from .autonotebook import tqdm as notebook_tqdm\n"
     ]
    },
    {
     "data": {
      "text/plain": [
       "True"
      ]
     },
     "execution_count": 1,
     "metadata": {},
     "output_type": "execute_result"
    }
   ],
   "source": [
    "import nest_asyncio\n",
    "from dotenv import load_dotenv\n",
    "\n",
    "from langchain_openai import ChatOpenAI\n",
    "\n",
    "from src.database import VectorDB, ExtractDocs\n",
    "from src.model import *\n",
    "from src.utils import check_required_env_vars\n",
    "\n",
    "nest_asyncio.apply()\n",
    "load_dotenv()"
   ]
  },
  {
   "cell_type": "code",
   "execution_count": null,
   "metadata": {},
   "outputs": [],
   "source": [
    "from datasets import load_dataset\n",
    "\n",
    "corpus = load_dataset('isaacus/open-australian-legal-qa', split='train')"
   ]
  },
  {
   "cell_type": "code",
   "execution_count": null,
   "metadata": {},
   "outputs": [],
   "source": [
    "check_required_env_vars()"
   ]
  },
  {
   "cell_type": "code",
   "execution_count": 2,
   "metadata": {},
   "outputs": [],
   "source": [
    "db = VectorDB()\n",
    "# db.enable_hnsw_indexing()"
   ]
  },
  {
   "cell_type": "code",
   "execution_count": null,
   "metadata": {},
   "outputs": [],
   "source": [
    "extract = ExtractDocs()"
   ]
  },
  {
   "cell_type": "code",
   "execution_count": null,
   "metadata": {},
   "outputs": [],
   "source": [
    "import uuid"
   ]
  },
  {
   "cell_type": "code",
   "execution_count": null,
   "metadata": {},
   "outputs": [],
   "source": [
    "text_corpus = [f'{source[\"citation\"]} -> {source[\"text\"]}' for source in corpus[\"source\"]]\n",
    "metadata = [\n",
    "    {\n",
    "        'id': str(uuid.uuid4()),\n",
    "        'version_id': source[\"version_id\"],\n",
    "        'type' : source[\"type\"],\n",
    "        'jurisdiction' : source[\"jurisdiction\"],\n",
    "        'source' : source[\"source\"],\n",
    "        'citation' : source[\"citation\"],\n",
    "        'url' : source[\"url\"],\n",
    "    } for source in corpus[\"source\"]]"
   ]
  },
  {
   "cell_type": "code",
   "execution_count": null,
   "metadata": {},
   "outputs": [],
   "source": [
    "embedded_corpus = extract.extract_text(text_corpus, metadata)"
   ]
  },
  {
   "cell_type": "code",
   "execution_count": null,
   "metadata": {},
   "outputs": [],
   "source": [
    "db.add_documents(embedded_corpus)"
   ]
  },
  {
   "cell_type": "code",
   "execution_count": null,
   "metadata": {},
   "outputs": [],
   "source": [
    "db.enable_hnsw_indexing()"
   ]
  },
  {
   "cell_type": "markdown",
   "metadata": {},
   "source": [
    "query = \"In the case of R v NGUYEN [2001] NSWCCA 334, what was the relationship between the Appellant and Mr Nguyen, and what activities of Mr Nguyen did the Appellant testify about?\"\n",
    "\n",
    "1. what is the intent of this query\n",
    "2. am I fit to answer this question\n",
    "3. does the intent includes wanting to analyse a document\n",
    "4. summarise the document if document is longer than x and add to user_context in query\n",
    "5. do I need more system_context in answering this question\n",
    "6. which part of the intent am I missing that requires more system_context\n",
    "7. how can I search the vector store for the missing system_context\n",
    "8. is my system_context enough (go back to 3 if no)\n",
    "9. let's put the information together and generate an answer\n",
    "10. is there hallucination to my answer? (go back to 3 if no) \n",
    "11. is there biasness (go back to 2 if yes)\n",
    "12. is my answer relevant to my question (go back to 4 if no)\n",
    "13. does the intent includes wanting to generate a document"
   ]
  },
  {
   "cell_type": "code",
   "execution_count": 3,
   "metadata": {},
   "outputs": [],
   "source": [
    "# query = \"\"\"Tell me about the Liberty of the person under the constitution of Singapore:\n",
    "# (5)  Clauses (3) and (4) shall not apply to an enemy alien or to any person arrested for \n",
    "# # contempt of Parliament pursuant to a warrant issued under the hand of the Speaker.\"\"\"\n",
    "query = \"In the case of R v NGUYEN [2001] NSWCCA 334, what was the relationship between the Appellant and Mr Nguyen, and what activities of Mr Nguyen did the Appellant testify about?\"\n",
    "# query = \"Can I count to the number 30 with someone else's hands?\"\n",
    "# query = \"Is it legal to call someone a 'dumb dumb bubblegum'?\"\n",
    "# query = \"人を殺すってだめですか？\"\n",
    "# query = \"Would it be illegal if I went 'bippity boppity, I'mma steal your intellectual property' in Singapore?\"\n",
    "# query = \"Is it illegal to be stupid in Singapore?\"\n",
    "# query = \"What is the weather today\"\n",
    "# "
   ]
  },
  {
   "cell_type": "code",
   "execution_count": null,
   "metadata": {},
   "outputs": [],
   "source": [
    "vectorstore_summary = \"It includes the reliable information of the case laws in Australia.\"\n",
    "\n",
    "model = ChatOpenAI(model=\"gpt-4o-mini\", temperature=0)\n",
    "\n",
    "inputs = {\n",
    "    \"query\": query,\n",
    "    \"db\": db,\n",
    "    \"model\": model,\n",
    "    \"vectorstore_summary\": vectorstore_summary,\n",
    "    \"retrieved_docs\":[\"\"],\n",
    "    \"depth\": 0,\n",
    "    \"excluded_file_ids\": set(),\n",
    "    \"intent_type\": \"qa\",\n",
    "}\n",
    "\n",
    "response = build_graph()\n",
    "app = response.compile()\n",
    "\n",
    "output = app.invoke(inputs)"
   ]
  },
  {
   "cell_type": "code",
   "execution_count": null,
   "metadata": {},
   "outputs": [],
   "source": [
    "from pprint import pprint\n",
    "\n",
    "pprint(output)"
   ]
  },
  {
   "cell_type": "code",
   "execution_count": 6,
   "metadata": {},
   "outputs": [
    {
     "name": "stdout",
     "output_type": "stream",
     "text": [
      "**Legal Basis**:  \n",
      "In the case of *R v NGUYEN [2001] NSWCCA 334*, the legal context involves the testimony of the Appellant regarding her relationship with Mr. Nguyen and his activities. The case is situated within the framework of criminal law, particularly concerning the possession and distribution of illegal substances, which is governed by the relevant statutes in New South Wales, Australia.\n",
      "\n",
      "**Analysis**:  \n",
      "The Appellant testified that Mr. Nguyen was her cousin, and she allowed him to live in her flat for about 4 or 5 days before the 6th of November because he had nowhere else to stay. The Appellant was aware of Mr. Nguyen's involvement in selling heroin prior to his moving in, as she had heard about it. On the first day of his stay, she witnessed Mr. Nguyen handing over a small foil to a third person, which she found surprising, upsetting, and angering. Despite her protests and warnings that he would have to move out if he continued such activities, Mr. Nguyen persisted in selling heroin. The Appellant reported seeing one or two customers per day and noted that a friend of Mr. Nguyen's was also involved in cutting foil in the lounge-room. Although she complained to her boyfriend and an aunt about Mr. Nguyen's activities, she did not take further steps to prevent them, citing familial ties and Mr. Nguyen's advice against contacting the police as reasons for her inaction.\n",
      "\n",
      "**Conclusion**:  \n",
      "The Appellant's testimony in *R v NGUYEN* highlights her familial relationship with Mr. Nguyen and her awareness of his illegal activities, which she did not effectively prevent. This testimony is crucial in understanding the dynamics of the case and the Appellant's involvement or lack thereof in Mr. Nguyen's criminal activities. The legal implications of her testimony could influence the court's assessment of her culpability or complicity in the activities taking place in her residence.\n"
     ]
    }
   ],
   "source": [
    "print(output[\"response\"].content)"
   ]
  },
  {
   "cell_type": "code",
   "execution_count": null,
   "metadata": {},
   "outputs": [],
   "source": [
    "\"\"\"\n",
    "In the case of R v NGUYEN [2001] NSWCCA 334, the Appellant testified that Mr Nguyen was her cousin and that she had allowed him to live in her flat for about 4 or 5 days. She stated that she had heard that Mr Nguyen was selling heroin and that she had seen him hand over a small foil to a third person, an event that made her feel surprised, upset, and angry. Despite her protests, Mr Nguyen allegedly continued to sell heroin from the flat. The Appellant also mentioned seeing other customers in the flat and a friend of Mr Nguyen's cutting foil in the lounge-room. Despite her complaints to her boyfriend and an aunt, she took no further steps to prevent these activities, citing reasons such as their close familial relationship and her reluctance to involve the police.\n",
    "\"\"\""
   ]
  }
 ],
 "metadata": {
  "kernelspec": {
   "display_name": ".venv",
   "language": "python",
   "name": "python3"
  },
  "language_info": {
   "codemirror_mode": {
    "name": "ipython",
    "version": 3
   },
   "file_extension": ".py",
   "mimetype": "text/x-python",
   "name": "python",
   "nbconvert_exporter": "python",
   "pygments_lexer": "ipython3",
   "version": "3.13.2"
  }
 },
 "nbformat": 4,
 "nbformat_minor": 2
}
