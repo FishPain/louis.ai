{
 "cells": [
  {
   "cell_type": "code",
   "execution_count": null,
   "metadata": {},
   "outputs": [],
   "source": [
    "!docker run --name pgvector-container -e POSTGRES_USER=langchain -e POSTGRES_PASSWORD=langchain -e POSTGRES_DB=langchain -p 6024:5432 -d pgvector/pgvector:pg16"
   ]
  },
  {
   "cell_type": "code",
   "execution_count": 1,
   "metadata": {},
   "outputs": [
    {
     "data": {
      "text/plain": [
       "True"
      ]
     },
     "execution_count": 1,
     "metadata": {},
     "output_type": "execute_result"
    }
   ],
   "source": [
    "import nest_asyncio\n",
    "from dotenv import load_dotenv\n",
    "import os\n",
    "\n",
    "from src.database import VectorDB\n",
    "from src.model import *\n",
    "\n",
    "nest_asyncio.apply()\n",
    "load_dotenv()"
   ]
  },
  {
   "cell_type": "code",
   "execution_count": 2,
   "metadata": {},
   "outputs": [
    {
     "name": "stderr",
     "output_type": "stream",
     "text": [
      "/Users/ifish/Documents/Github/louis.ai/.venv/lib/python3.13/site-packages/langchain_openai/chat_models/base.py:1375: UserWarning: Cannot use method='json_schema' with model gpt-3.5-turbo-0125 since it doesn't support OpenAI's Structured Output API. You can see supported models here: https://platform.openai.com/docs/guides/structured-outputs#supported-models. To fix this warning, set `method='function_calling'. Overriding to method='function_calling'.\n",
      "  warnings.warn(\n"
     ]
    },
    {
     "name": "stdout",
     "output_type": "stream",
     "text": [
      "Decision: web_search\n",
      "Using Tool Response: {'messages': [HumanMessage(content='Use the internet, tell me what is the weather', additional_kwargs={}, response_metadata={}, id='03690f64-7853-4a33-93c0-d20bae7744bb'), AIMessage(content='', additional_kwargs={'tool_calls': [{'id': 'call_UjaeUrXmykmhrqDCgYYtoqg0', 'function': {'arguments': '{\"query\":\"current weather\"}', 'name': 'tavily_search_results_json'}, 'type': 'function'}], 'refusal': None}, response_metadata={'token_usage': {'completion_tokens': 20, 'prompt_tokens': 91, 'total_tokens': 111, 'completion_tokens_details': {'accepted_prediction_tokens': 0, 'audio_tokens': 0, 'reasoning_tokens': 0, 'rejected_prediction_tokens': 0}, 'prompt_tokens_details': {'audio_tokens': 0, 'cached_tokens': 0}}, 'model_name': 'gpt-3.5-turbo-0125', 'system_fingerprint': None, 'finish_reason': 'tool_calls', 'logprobs': None}, id='run-28057918-aa0c-44d0-9047-1a774a8935ea-0', tool_calls=[{'name': 'tavily_search_results_json', 'args': {'query': 'current weather'}, 'id': 'call_UjaeUrXmykmhrqDCgYYtoqg0', 'type': 'tool_call'}], usage_metadata={'input_tokens': 91, 'output_tokens': 20, 'total_tokens': 111, 'input_token_details': {'audio': 0, 'cache_read': 0}, 'output_token_details': {'audio': 0, 'reasoning': 0}}), ToolMessage(content='[{\"url\": \"https://www.weatherapi.com/\", \"content\": \"{\\'location\\': {\\'name\\': \\'Global\\', \\'region\\': \\'Maguindanao\\', \\'country\\': \\'Filipinas\\', \\'lat\\': 7.3958, \\'lon\\': 124.3069, \\'tz_id\\': \\'Asia/Manila\\', \\'localtime_epoch\\': 1738063428, \\'localtime\\': \\'2025-01-28 19:23\\'}, \\'current\\': {\\'last_updated_epoch\\': 1738062900, \\'last_updated\\': \\'2025-01-28 19:15\\', \\'temp_c\\': 26.1, \\'temp_f\\': 79.0, \\'is_day\\': 0, \\'condition\\': {\\'text\\': \\'Clear\\', \\'icon\\': \\'//cdn.weatherapi.com/weather/64x64/night/113.png\\', \\'code\\': 1000}, \\'wind_mph\\': 2.2, \\'wind_kph\\': 3.6, \\'wind_degree\\': 82, \\'wind_dir\\': \\'E\\', \\'pressure_mb\\': 1009.0, \\'pressure_in\\': 29.79, \\'precip_mm\\': 0.0, \\'precip_in\\': 0.0, \\'humidity\\': 83, \\'cloud\\': 13, \\'feelslike_c\\': 28.9, \\'feelslike_f\\': 84.1, \\'windchill_c\\': 26.1, \\'windchill_f\\': 79.0, \\'heatindex_c\\': 28.9, \\'heatindex_f\\': 84.1, \\'dewpoint_c\\': 22.9, \\'dewpoint_f\\': 73.2, \\'vis_km\\': 10.0, \\'vis_miles\\': 6.0, \\'uv\\': 0.0, \\'gust_mph\\': 6.7, \\'gust_kph\\': 10.8}}\"}, {\"url\": \"https://www.weather25.com/north-america/usa?page=date&date=28-1\", \"content\": \"United States weather forecast for Tuesday, 28 January 2025 United States weather forecast for Tuesday, 28 January 2025 This was the average weather in the United States during January 28 in recent years. Weather in the United States during the last few years on January 28 | 2024 - January 28 | 2 ° / 0 ° | 20.8 mm |  | 2023 - January 28 | 7 ° / 0 ° | 0 mm |  Cities in the United States More about the weather in the United States United States 14 day weather Long range weather for United States United States weather in November United States weather in December Weather tomorrow Hotels in the United States\"}]', name='tavily_search_results_json', id='93631766-d83a-425b-afd3-4d26f1376b20', tool_call_id='call_UjaeUrXmykmhrqDCgYYtoqg0', artifact={'query': 'current weather', 'follow_up_questions': None, 'answer': None, 'images': [], 'results': [{'title': 'Weather in global', 'url': 'https://www.weatherapi.com/', 'content': \"{'location': {'name': 'Global', 'region': 'Maguindanao', 'country': 'Filipinas', 'lat': 7.3958, 'lon': 124.3069, 'tz_id': 'Asia/Manila', 'localtime_epoch': 1738063428, 'localtime': '2025-01-28 19:23'}, 'current': {'last_updated_epoch': 1738062900, 'last_updated': '2025-01-28 19:15', 'temp_c': 26.1, 'temp_f': 79.0, 'is_day': 0, 'condition': {'text': 'Clear', 'icon': '//cdn.weatherapi.com/weather/64x64/night/113.png', 'code': 1000}, 'wind_mph': 2.2, 'wind_kph': 3.6, 'wind_degree': 82, 'wind_dir': 'E', 'pressure_mb': 1009.0, 'pressure_in': 29.79, 'precip_mm': 0.0, 'precip_in': 0.0, 'humidity': 83, 'cloud': 13, 'feelslike_c': 28.9, 'feelslike_f': 84.1, 'windchill_c': 26.1, 'windchill_f': 79.0, 'heatindex_c': 28.9, 'heatindex_f': 84.1, 'dewpoint_c': 22.9, 'dewpoint_f': 73.2, 'vis_km': 10.0, 'vis_miles': 6.0, 'uv': 0.0, 'gust_mph': 6.7, 'gust_kph': 10.8}}\", 'score': 0.9602034, 'raw_content': None}, {'title': 'United States weather forecast for Tuesday, 28 January 2025', 'url': 'https://www.weather25.com/north-america/usa?page=date&date=28-1', 'content': 'United States weather forecast for Tuesday, 28 January 2025 United States weather forecast for Tuesday, 28 January 2025 This was the average weather in the United States during January 28 in recent years. Weather in the United States during the last few years on January 28 | 2024 - January 28 | 2 ° / 0 ° | 20.8 mm |  | 2023 - January 28 | 7 ° / 0 ° | 0 mm |  Cities in the United States More about the weather in the United States United States 14 day weather Long range weather for United States United States weather in November United States weather in December Weather tomorrow Hotels in the United States', 'score': 0.903098, 'raw_content': None}], 'response_time': 2.46}), AIMessage(content='I found some information about the current weather:\\n\\n- Location: Global, Maguindanao, Filipinas\\n- Temperature: 26.1°C (79.0°F)\\n- Condition: Clear\\n- Wind: 3.6 km/h (2.2 mph) from the east\\n- Pressure: 1009.0 mb\\n- Humidity: 83%\\n- Cloud Cover: 13%\\n- Visibility: 10.0 km (6.0 miles)\\n\\nFor more detailed weather information, you can visit [Weather API](https://www.weatherapi.com/).', additional_kwargs={'refusal': None}, response_metadata={'token_usage': {'completion_tokens': 122, 'prompt_tokens': 708, 'total_tokens': 830, 'completion_tokens_details': {'accepted_prediction_tokens': 0, 'audio_tokens': 0, 'reasoning_tokens': 0, 'rejected_prediction_tokens': 0}, 'prompt_tokens_details': {'audio_tokens': 0, 'cached_tokens': 0}}, 'model_name': 'gpt-3.5-turbo-0125', 'system_fingerprint': None, 'finish_reason': 'stop', 'logprobs': None}, id='run-3430319e-0a29-407b-a676-04721fff85c9-0', usage_metadata={'input_tokens': 708, 'output_tokens': 122, 'total_tokens': 830, 'input_token_details': {'audio': 0, 'cache_read': 0}, 'output_token_details': {'audio': 0, 'reasoning': 0}})]}\n",
      "ChatGPT Response:\n",
      "{'messages': [HumanMessage(content='Use the internet, tell me what is the weather', additional_kwargs={}, response_metadata={}, id='03690f64-7853-4a33-93c0-d20bae7744bb'), AIMessage(content='', additional_kwargs={'tool_calls': [{'id': 'call_UjaeUrXmykmhrqDCgYYtoqg0', 'function': {'arguments': '{\"query\":\"current weather\"}', 'name': 'tavily_search_results_json'}, 'type': 'function'}], 'refusal': None}, response_metadata={'token_usage': {'completion_tokens': 20, 'prompt_tokens': 91, 'total_tokens': 111, 'completion_tokens_details': {'accepted_prediction_tokens': 0, 'audio_tokens': 0, 'reasoning_tokens': 0, 'rejected_prediction_tokens': 0}, 'prompt_tokens_details': {'audio_tokens': 0, 'cached_tokens': 0}}, 'model_name': 'gpt-3.5-turbo-0125', 'system_fingerprint': None, 'finish_reason': 'tool_calls', 'logprobs': None}, id='run-28057918-aa0c-44d0-9047-1a774a8935ea-0', tool_calls=[{'name': 'tavily_search_results_json', 'args': {'query': 'current weather'}, 'id': 'call_UjaeUrXmykmhrqDCgYYtoqg0', 'type': 'tool_call'}], usage_metadata={'input_tokens': 91, 'output_tokens': 20, 'total_tokens': 111, 'input_token_details': {'audio': 0, 'cache_read': 0}, 'output_token_details': {'audio': 0, 'reasoning': 0}}), ToolMessage(content='[{\"url\": \"https://www.weatherapi.com/\", \"content\": \"{\\'location\\': {\\'name\\': \\'Global\\', \\'region\\': \\'Maguindanao\\', \\'country\\': \\'Filipinas\\', \\'lat\\': 7.3958, \\'lon\\': 124.3069, \\'tz_id\\': \\'Asia/Manila\\', \\'localtime_epoch\\': 1738063428, \\'localtime\\': \\'2025-01-28 19:23\\'}, \\'current\\': {\\'last_updated_epoch\\': 1738062900, \\'last_updated\\': \\'2025-01-28 19:15\\', \\'temp_c\\': 26.1, \\'temp_f\\': 79.0, \\'is_day\\': 0, \\'condition\\': {\\'text\\': \\'Clear\\', \\'icon\\': \\'//cdn.weatherapi.com/weather/64x64/night/113.png\\', \\'code\\': 1000}, \\'wind_mph\\': 2.2, \\'wind_kph\\': 3.6, \\'wind_degree\\': 82, \\'wind_dir\\': \\'E\\', \\'pressure_mb\\': 1009.0, \\'pressure_in\\': 29.79, \\'precip_mm\\': 0.0, \\'precip_in\\': 0.0, \\'humidity\\': 83, \\'cloud\\': 13, \\'feelslike_c\\': 28.9, \\'feelslike_f\\': 84.1, \\'windchill_c\\': 26.1, \\'windchill_f\\': 79.0, \\'heatindex_c\\': 28.9, \\'heatindex_f\\': 84.1, \\'dewpoint_c\\': 22.9, \\'dewpoint_f\\': 73.2, \\'vis_km\\': 10.0, \\'vis_miles\\': 6.0, \\'uv\\': 0.0, \\'gust_mph\\': 6.7, \\'gust_kph\\': 10.8}}\"}, {\"url\": \"https://www.weather25.com/north-america/usa?page=date&date=28-1\", \"content\": \"United States weather forecast for Tuesday, 28 January 2025 United States weather forecast for Tuesday, 28 January 2025 This was the average weather in the United States during January 28 in recent years. Weather in the United States during the last few years on January 28 | 2024 - January 28 | 2 ° / 0 ° | 20.8 mm |  | 2023 - January 28 | 7 ° / 0 ° | 0 mm |  Cities in the United States More about the weather in the United States United States 14 day weather Long range weather for United States United States weather in November United States weather in December Weather tomorrow Hotels in the United States\"}]', name='tavily_search_results_json', id='93631766-d83a-425b-afd3-4d26f1376b20', tool_call_id='call_UjaeUrXmykmhrqDCgYYtoqg0', artifact={'query': 'current weather', 'follow_up_questions': None, 'answer': None, 'images': [], 'results': [{'title': 'Weather in global', 'url': 'https://www.weatherapi.com/', 'content': \"{'location': {'name': 'Global', 'region': 'Maguindanao', 'country': 'Filipinas', 'lat': 7.3958, 'lon': 124.3069, 'tz_id': 'Asia/Manila', 'localtime_epoch': 1738063428, 'localtime': '2025-01-28 19:23'}, 'current': {'last_updated_epoch': 1738062900, 'last_updated': '2025-01-28 19:15', 'temp_c': 26.1, 'temp_f': 79.0, 'is_day': 0, 'condition': {'text': 'Clear', 'icon': '//cdn.weatherapi.com/weather/64x64/night/113.png', 'code': 1000}, 'wind_mph': 2.2, 'wind_kph': 3.6, 'wind_degree': 82, 'wind_dir': 'E', 'pressure_mb': 1009.0, 'pressure_in': 29.79, 'precip_mm': 0.0, 'precip_in': 0.0, 'humidity': 83, 'cloud': 13, 'feelslike_c': 28.9, 'feelslike_f': 84.1, 'windchill_c': 26.1, 'windchill_f': 79.0, 'heatindex_c': 28.9, 'heatindex_f': 84.1, 'dewpoint_c': 22.9, 'dewpoint_f': 73.2, 'vis_km': 10.0, 'vis_miles': 6.0, 'uv': 0.0, 'gust_mph': 6.7, 'gust_kph': 10.8}}\", 'score': 0.9602034, 'raw_content': None}, {'title': 'United States weather forecast for Tuesday, 28 January 2025', 'url': 'https://www.weather25.com/north-america/usa?page=date&date=28-1', 'content': 'United States weather forecast for Tuesday, 28 January 2025 United States weather forecast for Tuesday, 28 January 2025 This was the average weather in the United States during January 28 in recent years. Weather in the United States during the last few years on January 28 | 2024 - January 28 | 2 ° / 0 ° | 20.8 mm |  | 2023 - January 28 | 7 ° / 0 ° | 0 mm |  Cities in the United States More about the weather in the United States United States 14 day weather Long range weather for United States United States weather in November United States weather in December Weather tomorrow Hotels in the United States', 'score': 0.903098, 'raw_content': None}], 'response_time': 2.46}), AIMessage(content='I found some information about the current weather:\\n\\n- Location: Global, Maguindanao, Filipinas\\n- Temperature: 26.1°C (79.0°F)\\n- Condition: Clear\\n- Wind: 3.6 km/h (2.2 mph) from the east\\n- Pressure: 1009.0 mb\\n- Humidity: 83%\\n- Cloud Cover: 13%\\n- Visibility: 10.0 km (6.0 miles)\\n\\nFor more detailed weather information, you can visit [Weather API](https://www.weatherapi.com/).', additional_kwargs={'refusal': None}, response_metadata={'token_usage': {'completion_tokens': 122, 'prompt_tokens': 708, 'total_tokens': 830, 'completion_tokens_details': {'accepted_prediction_tokens': 0, 'audio_tokens': 0, 'reasoning_tokens': 0, 'rejected_prediction_tokens': 0}, 'prompt_tokens_details': {'audio_tokens': 0, 'cached_tokens': 0}}, 'model_name': 'gpt-3.5-turbo-0125', 'system_fingerprint': None, 'finish_reason': 'stop', 'logprobs': None}, id='run-3430319e-0a29-407b-a676-04721fff85c9-0', usage_metadata={'input_tokens': 708, 'output_tokens': 122, 'total_tokens': 830, 'input_token_details': {'audio': 0, 'cache_read': 0}, 'output_token_details': {'audio': 0, 'reasoning': 0}})]}\n"
     ]
    }
   ],
   "source": [
    "query = \"Use the internet, tell me what is the weather\"\n",
    "\n",
    "db = VectorDB()\n",
    "\n",
    "db.create_vector_store()\n",
    "# Step 3: Retrieve top-k relevant documents\n",
    "retrieved_docs = db.similarity_search(query, k=3)\n",
    "\n",
    "# Step 4: Get ChatGPT response\n",
    "response = get_chatgpt_response(query, retrieved_docs)\n",
    "\n",
    "print(\"ChatGPT Response:\")\n",
    "print(response)"
   ]
  },
  {
   "cell_type": "code",
   "execution_count": 11,
   "metadata": {},
   "outputs": [
    {
     "data": {
      "text/plain": [
       "'I found some information about the current weather:\\n\\n- Location: Global, Maguindanao, Filipinas\\n- Temperature: 26.1°C (79.0°F)\\n- Condition: Clear\\n- Wind: 3.6 km/h (2.2 mph) from the east\\n- Pressure: 1009.0 mb\\n- Humidity: 83%\\n- Cloud Cover: 13%\\n- Visibility: 10.0 km (6.0 miles)\\n\\nFor more detailed weather information, you can visit [Weather API](https://www.weatherapi.com/).'"
      ]
     },
     "execution_count": 11,
     "metadata": {},
     "output_type": "execute_result"
    }
   ],
   "source": [
    "response[\"messages\"][-1].content"
   ]
  }
 ],
 "metadata": {
  "kernelspec": {
   "display_name": ".venv",
   "language": "python",
   "name": "python3"
  },
  "language_info": {
   "codemirror_mode": {
    "name": "ipython",
    "version": 3
   },
   "file_extension": ".py",
   "mimetype": "text/x-python",
   "name": "python",
   "nbconvert_exporter": "python",
   "pygments_lexer": "ipython3",
   "version": "3.13.1"
  }
 },
 "nbformat": 4,
 "nbformat_minor": 2
}
