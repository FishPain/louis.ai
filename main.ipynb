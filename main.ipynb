{
 "cells": [
  {
   "cell_type": "code",
   "execution_count": 5,
   "metadata": {},
   "outputs": [
    {
     "data": {
      "text/plain": [
       "True"
      ]
     },
     "execution_count": 5,
     "metadata": {},
     "output_type": "execute_result"
    }
   ],
   "source": [
    "import nest_asyncio\n",
    "from dotenv import load_dotenv\n",
    "\n",
    "from langchain_openai import ChatOpenAI\n",
    "\n",
    "from src.database import VectorDB\n",
    "from src.model import *\n",
    "\n",
    "nest_asyncio.apply()\n",
    "load_dotenv()"
   ]
  },
  {
   "cell_type": "code",
   "execution_count": 6,
   "metadata": {},
   "outputs": [
    {
     "name": "stderr",
     "output_type": "stream",
     "text": [
      "/Users/ifish/Documents/Github/louis.ai/.venv/lib/python3.13/site-packages/langchain_openai/chat_models/base.py:1375: UserWarning: Cannot use method='json_schema' with model gpt-3.5-turbo-0125 since it doesn't support OpenAI's Structured Output API. You can see supported models here: https://platform.openai.com/docs/guides/structured-outputs#supported-models. To fix this warning, set `method='function_calling'. Overriding to method='function_calling'.\n",
      "  warnings.warn(\n"
     ]
    }
   ],
   "source": [
    "query = \"Tell me about the history of the United States\"\n",
    "\n",
    "db = VectorDB()\n",
    "\n",
    "db.create_vector_store()\n",
    "\n",
    "vectorstore_summary = \"It includes the reliable information of the constitution of the republic of Singapore.\"\n",
    "\n",
    "model = ChatOpenAI(model=\"gpt-3.5-turbo-0125\", temperature=0)\n",
    "\n",
    "inputs = {\n",
    "    \"query\": query,\n",
    "    \"db\": db,\n",
    "    \"model\": model,\n",
    "    \"vectorstore_summary\": vectorstore_summary,\n",
    "}\n",
    "\n",
    "response = build_graph(query)\n",
    "app = response.compile()\n",
    "\n",
    "output = app.invoke(inputs)"
   ]
  },
  {
   "cell_type": "code",
   "execution_count": 7,
   "metadata": {},
   "outputs": [
    {
     "data": {
      "text/plain": [
       "\"The history of the United States is vast and complex, spanning from prehistory to the present day. Here are some key points from the search results:\\n\\n1. The history of the United States is organized by periods, topics, wars, and timelines. It covers major events, eras, and movements that have shaped the nation and its people. You can find a comprehensive overview on [Wikipedia](https://en.wikipedia.org/wiki/Outline_of_the_history_of_the_United_States).\\n\\n2. The history includes significant events such as the establishment of the Second Bank of the United States in 1816, the Monroe Doctrine in 1823, and the terrorist attacks on September 11, 2001.\\n\\n3. The history also delves into the expansion and reform period from 1815 to 1860, including the Indian Removal Act of 1830, which authorized the exchange of Native American tribal lands in the eastern states for lands west of the Mississippi River.\\n\\n4. The history of the United States involves various political, social, and economic developments, including the rise of Hawaiian civilization, European exploration and colonization, and significant presidential actions like President Andrew Jackson's dissolution of the Second Bank of the United States in 1836.\\n\\nFor more detailed information, you can explore the [Wikipedia page on the history of the United States](https://en.wikipedia.org/wiki/History_of_the_United_States).\""
      ]
     },
     "execution_count": 7,
     "metadata": {},
     "output_type": "execute_result"
    }
   ],
   "source": [
    "output[\"response\"][\"messages\"][-1].content"
   ]
  },
  {
   "cell_type": "code",
   "execution_count": null,
   "metadata": {},
   "outputs": [],
   "source": []
  }
 ],
 "metadata": {
  "kernelspec": {
   "display_name": ".venv",
   "language": "python",
   "name": "python3"
  },
  "language_info": {
   "codemirror_mode": {
    "name": "ipython",
    "version": 3
   },
   "file_extension": ".py",
   "mimetype": "text/x-python",
   "name": "python",
   "nbconvert_exporter": "python",
   "pygments_lexer": "ipython3",
   "version": "3.13.1"
  }
 },
 "nbformat": 4,
 "nbformat_minor": 2
}
