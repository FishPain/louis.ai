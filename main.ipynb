{
 "cells": [
  {
   "cell_type": "code",
   "execution_count": 1,
   "metadata": {},
   "outputs": [
    {
     "data": {
      "text/plain": [
       "False"
      ]
     },
     "execution_count": 1,
     "metadata": {},
     "output_type": "execute_result"
    }
   ],
   "source": [
    "import nest_asyncio\n",
    "from dotenv import load_dotenv\n",
    "\n",
    "from langchain_openai import ChatOpenAI\n",
    "\n",
    "from src.database import VectorDB\n",
    "from src.model import *\n",
    "from src.model_grader import *\n",
    "from src.utils import check_required_env_vars\n",
    "\n",
    "nest_asyncio.apply()\n",
    "load_dotenv()"
   ]
  },
  {
   "cell_type": "code",
   "execution_count": 2,
   "metadata": {},
   "outputs": [
    {
     "data": {
      "text/plain": [
       "{}"
      ]
     },
     "execution_count": 2,
     "metadata": {},
     "output_type": "execute_result"
    }
   ],
   "source": [
    "check_required_env_vars()"
   ]
  },
  {
   "cell_type": "code",
   "execution_count": 3,
   "metadata": {},
   "outputs": [
    {
     "name": "stdout",
     "output_type": "stream",
     "text": [
      "HNSW extension and index created successfully.\n"
     ]
    }
   ],
   "source": [
    "db = VectorDB()\n",
    "db.enable_hnsw_indexing()"
   ]
  },
  {
   "cell_type": "code",
   "execution_count": null,
   "metadata": {},
   "outputs": [],
   "source": [
    "# query = \"\"\"Tell me about the Liberty of the person under the constitution of Singapore:\n",
    "# (5)  Clauses (3) and (4) shall not apply to an enemy alien or to any person arrested for \n",
    "# contempt of Parliament pursuant to a warrant issued under the hand of the Speaker.\"\"\"\n",
    "# query = \"Can I count to the number 30 with someone else's hands?\"\n",
    "# query = \"Is it legal to call someone a 'dumb dumb bubblegum'?\"\n",
    "# query = \"人を殺すってだめですか？\"\n",
    "# query = \"Would it be illegal if I went 'bippity boppity, I'mma steal your intellectual property' in Singapore?\"\n",
    "# query = \"Is it illegal to be stupid in Singapore?\"\n",
    "query = \"I want to play Monster Hunter Wilds, but it's $100. :(\"\n",
    "\n",
    "vectorstore_summary = \"It includes the reliable information of the constitution of the republic of Singapore.\"\n",
    "\n",
    "model = ChatOpenAI(model=\"gpt-4o-mini\", temperature=0)\n",
    "\n",
    "inputs = {\n",
    "    \"query\": query,\n",
    "    \"db\": db,\n",
    "    \"model\": model,\n",
    "    \"vectorstore_summary\": vectorstore_summary,\n",
    "    \"retrieved_docs\":[\"\"],\n",
    "    \"depth\": 0,\n",
    "    \"excluded_file_ids\": set(),\n",
    "}\n",
    "\n",
    "response = build_graph()\n",
    "app = response.compile()\n",
    "\n",
    "output = app.invoke(inputs)"
   ]
  },
  {
   "cell_type": "code",
   "execution_count": 59,
   "metadata": {},
   "outputs": [
    {
     "name": "stdout",
     "output_type": "stream",
     "text": [
      "{'complexity': 'high',\n",
      " 'db': <src.database.VectorDB object at 0x78fdb03eb770>,\n",
      " 'depth': 0,\n",
      " 'excluded_file_ids': set(),\n",
      " 'model': ChatOpenAI(client=<openai.resources.chat.completions.completions.Completions object at 0x78fd6399c5f0>, async_client=<openai.resources.chat.completions.completions.AsyncCompletions object at 0x78fd633e1b50>, root_client=<openai.OpenAI object at 0x78fd63818950>, root_async_client=<openai.AsyncOpenAI object at 0x78fd6399d520>, model_name='gpt-4o-mini', temperature=0.0, model_kwargs={}, openai_api_key=SecretStr('**********')),\n",
      " 'query': '人を殺すってだめですか？',\n",
      " 'response': {'messages': [HumanMessage(content='人を殺すってだめですか？', additional_kwargs={}, response_metadata={}, id='5c277690-21c9-420d-85a0-ab8838a071ee'),\n",
      "                           AIMessage(content='はい、人を殺すことは法律に反しており、倫理的にも許されません。人の命を奪うことは重大な犯罪であり、社会に対しても大きな影響を与えます。もし何か悩みや問題がある場合は、信頼できる人に相談することをお勧めします。', additional_kwargs={'refusal': None}, response_metadata={'token_usage': {'completion_tokens': 82, 'prompt_tokens': 89, 'total_tokens': 171, 'completion_tokens_details': {'accepted_prediction_tokens': 0, 'audio_tokens': 0, 'reasoning_tokens': 0, 'rejected_prediction_tokens': 0}, 'prompt_tokens_details': {'audio_tokens': 0, 'cached_tokens': 0}}, 'model_name': 'gpt-4o-mini-2024-07-18', 'system_fingerprint': 'fp_709714d124', 'finish_reason': 'stop', 'logprobs': None}, id='run-386b146e-ba36-4e4f-898d-3697b30ac7b7-0', usage_metadata={'input_tokens': 89, 'output_tokens': 82, 'total_tokens': 171, 'input_token_details': {'audio': 0, 'cache_read': 0}, 'output_token_details': {'audio': 0, 'reasoning': 0}})]},\n",
      " 'retrieved_docs': [''],\n",
      " 'vectorstore_summary': 'It includes the reliable information of the '\n",
      "                        'constitution of the republic of Singapore.'}\n"
     ]
    }
   ],
   "source": [
    "from pprint import pprint\n",
    "\n",
    "pprint(output)"
   ]
  },
  {
   "cell_type": "code",
   "execution_count": 55,
   "metadata": {},
   "outputs": [
    {
     "name": "stdout",
     "output_type": "stream",
     "text": [
      "### **Legal Response**\n",
      "\n",
      "- **Legal Basis**: The retrieved legal context does not provide any specific clauses or laws directly related to the pricing of video games or consumer rights in Singapore. However, general consumer protection laws may apply, such as the Consumer Protection (Fair Trading) Act (Cap. 52A) which prohibits unfair trading practices.\n",
      "\n",
      "- **Explanation**: The Consumer Protection (Fair Trading) Act aims to protect consumers against unfair practices in the marketplace. While the Act does not specifically regulate the pricing of goods, it does ensure that consumers are not subjected to misleading advertisements or unfair terms in contracts. If a game is priced at $100, it is within the retailer's rights to set that price, provided that it is not misleadingly advertised or accompanied by unfair terms.\n",
      "\n",
      "- **Conclusion**: In the absence of specific legal provisions regarding the pricing of video games, the price of $100 for Monster Hunter Wilds is legally permissible under Singaporean law. Consumers may seek alternative options such as discounts, sales, or second-hand purchases if the price is deemed too high.\n"
     ]
    }
   ],
   "source": [
    "print(output[\"response\"].content)"
   ]
  },
  {
   "cell_type": "code",
   "execution_count": 56,
   "metadata": {},
   "outputs": [
    {
     "name": "stdout",
     "output_type": "stream",
     "text": [
      "Hallucination: False\n",
      "Quality: True\n",
      "Compliance: True\n"
     ]
    }
   ],
   "source": [
    "response = output[\"response\"].content\n",
    "\n",
    "# query = \"Who is the protagonist of the Halo series?\"\n",
    "# response = \"Arbiter is the playable character in Halo.\"\n",
    "\n",
    "inputs = {\n",
    "    \"query\": query,\n",
    "    \"response\": response,\n",
    "    \"model\": model,\n",
    "}\n",
    "\n",
    "grading_graph = build_response_grader_graph()\n",
    "grading_app = grading_graph.compile()\n",
    "\n",
    "grading_output = grading_app.invoke(inputs)\n",
    "print(f\"Hallucination: {grading_output[\"hallucination\"]}\")\n",
    "print(f\"Quality: {grading_output[\"quality\"]}\")\n",
    "print(f\"Compliance: {grading_output[\"compliance\"]}\")"
   ]
  },
  {
   "cell_type": "code",
   "execution_count": 57,
   "metadata": {},
   "outputs": [
    {
     "name": "stdout",
     "output_type": "stream",
     "text": [
      "{'compliance': True,\n",
      " 'compliance_reason': ' \"The response accurately reflects the principles of '\n",
      "                      'the Consumer Protection (Fair Trading) Act and aligns '\n",
      "                      'with Singaporean law regarding pricing and consumer '\n",
      "                      'rights.\"',\n",
      " 'hallucination': False,\n",
      " 'hallucination_reason': ' \"The statement accurately reflects the general '\n",
      "                         'principles of consumer protection laws in Singapore, '\n",
      "                         'specifically the Consumer Protection (Fair Trading) '\n",
      "                         'Act, and correctly explains the legal context '\n",
      "                         'regarding pricing practices.\"',\n",
      " 'model': ChatOpenAI(client=<openai.resources.chat.completions.completions.Completions object at 0x78fd63884470>, async_client=<openai.resources.chat.completions.completions.AsyncCompletions object at 0x78fd61af6060>, root_client=<openai.OpenAI object at 0x78fd63894830>, root_async_client=<openai.AsyncOpenAI object at 0x78fd63884620>, model_name='gpt-4o-mini', temperature=0.0, model_kwargs={}, openai_api_key=SecretStr('**********')),\n",
      " 'quality': True,\n",
      " 'quality_reason': ' \"The response provides relevant legal context but does '\n",
      "                   \"not directly address the user's concern about the high \"\n",
      "                   'price or suggest practical solutions beyond general '\n",
      "                   'consumer rights.\"',\n",
      " 'query': \"I want to play Monster Hunter Wilds, but it's $100. :(\",\n",
      " 'response': '### **Legal Response**\\n'\n",
      "             '\\n'\n",
      "             '- **Legal Basis**: The retrieved legal context does not provide '\n",
      "             'any specific clauses or laws directly related to the pricing of '\n",
      "             'video games or consumer rights in Singapore. However, general '\n",
      "             'consumer protection laws may apply, such as the Consumer '\n",
      "             'Protection (Fair Trading) Act (Cap. 52A) which prohibits unfair '\n",
      "             'trading practices.\\n'\n",
      "             '\\n'\n",
      "             '- **Explanation**: The Consumer Protection (Fair Trading) Act '\n",
      "             'aims to protect consumers against unfair practices in the '\n",
      "             'marketplace. While the Act does not specifically regulate the '\n",
      "             'pricing of goods, it does ensure that consumers are not '\n",
      "             'subjected to misleading advertisements or unfair terms in '\n",
      "             'contracts. If a game is priced at $100, it is within the '\n",
      "             \"retailer's rights to set that price, provided that it is not \"\n",
      "             'misleadingly advertised or accompanied by unfair terms.\\n'\n",
      "             '\\n'\n",
      "             '- **Conclusion**: In the absence of specific legal provisions '\n",
      "             'regarding the pricing of video games, the price of $100 for '\n",
      "             'Monster Hunter Wilds is legally permissible under Singaporean '\n",
      "             'law. Consumers may seek alternative options such as discounts, '\n",
      "             'sales, or second-hand purchases if the price is deemed too high.'}\n"
     ]
    }
   ],
   "source": [
    "pprint(grading_output)"
   ]
  },
  {
   "cell_type": "code",
   "execution_count": 9,
   "metadata": {},
   "outputs": [
    {
     "data": {
      "image/png": "[encoded data removed]",
      "text/plain": [
       "<langgraph.graph.state.CompiledStateGraph object at 0x78fd63d49790>"
      ]
     },
     "execution_count": 9,
     "metadata": {},
     "output_type": "execute_result"
    }
   ],
   "source": [
    "grading_app"
   ]
  },
  {
   "cell_type": "code",
   "execution_count": 10,
   "metadata": {},
   "outputs": [
    {
     "ename": "TypeError",
     "evalue": "'AIMessage' object is not subscriptable",
     "output_type": "error",
     "traceback": [
      "\u001b[0;31m---------------------------------------------------------------------------\u001b[0m",
      "\u001b[0;31mTypeError\u001b[0m                                 Traceback (most recent call last)",
      "Cell \u001b[0;32mIn[10], line 1\u001b[0m\n\u001b[0;32m----> 1\u001b[0m \u001b[43moutput\u001b[49m\u001b[43m[\u001b[49m\u001b[38;5;124;43m\"\u001b[39;49m\u001b[38;5;124;43mresponse\u001b[39;49m\u001b[38;5;124;43m\"\u001b[39;49m\u001b[43m]\u001b[49m\u001b[43m[\u001b[49m\u001b[38;5;124;43m\"\u001b[39;49m\u001b[38;5;124;43mmessages\u001b[39;49m\u001b[38;5;124;43m\"\u001b[39;49m\u001b[43m]\u001b[49m[\u001b[38;5;241m-\u001b[39m\u001b[38;5;241m1\u001b[39m]\u001b[38;5;241m.\u001b[39mcontent\n",
      "\u001b[0;31mTypeError\u001b[0m: 'AIMessage' object is not subscriptable"
     ]
    }
   ],
   "source": [
    "output[\"response\"][\"messages\"][-1].content"
   ]
  },
  {
   "cell_type": "code",
   "execution_count": null,
   "metadata": {},
   "outputs": [],
   "source": []
  }
 ],
 "metadata": {
  "kernelspec": {
   "display_name": "venv",
   "language": "python",
   "name": "python3"
  },
  "language_info": {
   "codemirror_mode": {
    "name": "ipython",
    "version": 3
   },
   "file_extension": ".py",
   "mimetype": "text/x-python",
   "name": "python",
   "nbconvert_exporter": "python",
   "pygments_lexer": "ipython3",
   "version": "3.12.7"
  }
 },
 "nbformat": 4,
 "nbformat_minor": 2
}
